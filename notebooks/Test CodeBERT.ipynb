{
 "cells": [
  {
   "cell_type": "code",
   "execution_count": 2,
   "id": "11d6f75b",
   "metadata": {},
   "outputs": [
    {
     "name": "stdout",
     "output_type": "stream",
     "text": [
      "{'score': 0.7236990928649902, 'token': 8, 'token_str': ' and', 'sequence': 'if (x is not None) and(x>1)'}\n",
      "{'score': 0.10633837431669235, 'token': 359, 'token_str': ' &', 'sequence': 'if (x is not None) &(x>1)'}\n",
      "{'score': 0.021604055538773537, 'token': 463, 'token_str': 'and', 'sequence': 'if (x is not None)and(x>1)'}\n",
      "{'score': 0.02122761495411396, 'token': 4248, 'token_str': ' AND', 'sequence': 'if (x is not None) AND(x>1)'}\n",
      "{'score': 0.01699129305779934, 'token': 114, 'token_str': ' if', 'sequence': 'if (x is not None) if(x>1)'}\n"
     ]
    }
   ],
   "source": [
    "from transformers import RobertaConfig, RobertaTokenizer, RobertaForMaskedLM, pipeline\n",
    "\n",
    "model = RobertaForMaskedLM.from_pretrained(\"microsoft/codebert-base-mlm\")\n",
    "tokenizer = RobertaTokenizer.from_pretrained(\"microsoft/codebert-base-mlm\")\n",
    "\n",
    "CODE = \"if (x is not None) <mask> (x>1)\"\n",
    "fill_mask = pipeline('fill-mask', model=model, tokenizer=tokenizer)\n",
    "\n",
    "outputs = fill_mask(CODE)\n",
    "for output in outputs:\n",
    "    print(output)"
   ]
  },
  {
   "cell_type": "code",
   "execution_count": null,
   "id": "f7e39676",
   "metadata": {},
   "outputs": [],
   "source": []
  }
 ],
 "metadata": {
  "kernelspec": {
   "display_name": "Python 3 (ipykernel)",
   "language": "python",
   "name": "python3"
  },
  "language_info": {
   "codemirror_mode": {
    "name": "ipython",
    "version": 3
   },
   "file_extension": ".py",
   "mimetype": "text/x-python",
   "name": "python",
   "nbconvert_exporter": "python",
   "pygments_lexer": "ipython3",
   "version": "3.8.6"
  }
 },
 "nbformat": 4,
 "nbformat_minor": 5
}
